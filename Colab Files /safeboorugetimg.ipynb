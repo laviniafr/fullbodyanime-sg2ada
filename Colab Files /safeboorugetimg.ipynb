{
  "nbformat": 4,
  "nbformat_minor": 0,
  "metadata": {
    "colab": {
      "name": "safeboorugetimg.ipynb",
      "provenance": [],
      "collapsed_sections": []
    },
    "kernelspec": {
      "name": "python3",
      "display_name": "Python 3"
    }
  },
  "cells": [
    {
      "cell_type": "markdown",
      "metadata": {
        "id": "FhSARDAG5EXz"
      },
      "source": [
        "# First Look at Safebooru Dataset"
      ]
    },
    {
      "cell_type": "markdown",
      "metadata": {
        "id": "7t9jM_cs32ak"
      },
      "source": [
        "### Import dataset from Google Drive"
      ]
    },
    {
      "cell_type": "code",
      "metadata": {
        "id": "9J6fBDWfAsGm"
      },
      "source": [
        "from google.colab import drive\n",
        "drive.mount('/content/drive')"
      ],
      "execution_count": null,
      "outputs": []
    },
    {
      "cell_type": "code",
      "metadata": {
        "id": "CyIhYrWlEROD"
      },
      "source": [
        "! unzip /content/drive/MyDrive/archive.zip -d /content/safebooru/"
      ],
      "execution_count": null,
      "outputs": []
    },
    {
      "cell_type": "markdown",
      "metadata": {
        "id": "8fOl1i6p392P"
      },
      "source": [
        "### Preview dataset in a table"
      ]
    },
    {
      "cell_type": "code",
      "metadata": {
        "id": "RIHRxlkdD-nB"
      },
      "source": [
        "import numpy as np\n",
        "import pandas as pd\n",
        "\n",
        "samples = 2700000\n",
        "\n",
        "df_raw = pd.read_csv('/content/safebooru/all_data.csv', nrows = samples)\n",
        "df_raw.head(samples)"
      ],
      "execution_count": null,
      "outputs": []
    },
    {
      "cell_type": "code",
      "metadata": {
        "id": "fHeH7RgFJbYQ"
      },
      "source": [
        "df_raw.info()"
      ],
      "execution_count": null,
      "outputs": []
    },
    {
      "cell_type": "code",
      "metadata": {
        "id": "hghN-1Wrtvnv"
      },
      "source": [
        "import matplotlib.pyplot as plt"
      ],
      "execution_count": null,
      "outputs": []
    },
    {
      "cell_type": "markdown",
      "metadata": {
        "id": "7GvJqFo9LfWt"
      },
      "source": [
        "View table of random examples"
      ]
    },
    {
      "cell_type": "code",
      "metadata": {
        "id": "IyUPA84UuJ8j"
      },
      "source": [
        "examples = df_raw.sample(n=12) \n",
        "examples.to_csv('out.csv')"
      ],
      "execution_count": null,
      "outputs": []
    },
    {
      "cell_type": "code",
      "metadata": {
        "id": "dMBginLIvvRg"
      },
      "source": [
        "examples"
      ],
      "execution_count": null,
      "outputs": []
    },
    {
      "cell_type": "markdown",
      "metadata": {
        "id": "asp58bDi5Vc3"
      },
      "source": [
        "## Selecting the Relevant Samples"
      ]
    },
    {
      "cell_type": "markdown",
      "metadata": {
        "id": "oP3aSzJCCfyA"
      },
      "source": [
        "### Selecting Relevant Columns (sample_url and tags)"
      ]
    },
    {
      "cell_type": "code",
      "metadata": {
        "id": "W2r4J1bBJ4Wy"
      },
      "source": [
        "features = ['sample_url', 'tags']\n",
        "df_X = df_raw[features]\n",
        "df_X.columns"
      ],
      "execution_count": null,
      "outputs": []
    },
    {
      "cell_type": "code",
      "metadata": {
        "id": "ZUxpLq4gKkeJ"
      },
      "source": [
        "df_X.head(samples)"
      ],
      "execution_count": null,
      "outputs": []
    },
    {
      "cell_type": "code",
      "metadata": {
        "id": "A5rsc09erIyY"
      },
      "source": [
        ""
      ],
      "execution_count": null,
      "outputs": []
    },
    {
      "cell_type": "markdown",
      "metadata": {
        "id": "UIB0orXFC16o"
      },
      "source": [
        "### Selecting appropriate tags"
      ]
    },
    {
      "cell_type": "code",
      "metadata": {
        "id": "dY2IuJaFKmGR"
      },
      "source": [
        "import re\n",
        "tag = []\n",
        "for i in df_X.tags:\n",
        "  tokens = re.split(\"[ ]\", i)\n",
        "  for token in tokens:\n",
        "    tag.append(token)\n",
        "\n",
        "print(len(tag))\n",
        "# preview first 10 tags\n",
        "tag[:10]"
      ],
      "execution_count": null,
      "outputs": []
    },
    {
      "cell_type": "markdown",
      "metadata": {
        "id": "GaPlOLg0FGEo"
      },
      "source": [
        "#### Print out number of samples for each relevant tag"
      ]
    },
    {
      "cell_type": "code",
      "metadata": {
        "id": "-SPP8C10K9bO"
      },
      "source": [
        "chosen = []\n",
        "tag_dictionary = {}\n",
        "for i in df_X.tags:\n",
        "  tokens = re.split(\"[ ]\", i)\n",
        "  for token in tokens:\n",
        "    if token in ['1girl', '1boy', 'white_background', 'full_body']:\n",
        "      chosen.append(token)\n",
        "for j in chosen:\n",
        "  tag_dictionary[j] = tag_dictionary.get(j,0)+1\n",
        "\n",
        "print(tag_dictionary)\n",
        "    "
      ],
      "execution_count": null,
      "outputs": []
    },
    {
      "cell_type": "markdown",
      "metadata": {
        "id": "OoJJ4I_ZFYbr"
      },
      "source": [
        "#### Select male and female samples using tag intersection"
      ]
    },
    {
      "cell_type": "code",
      "metadata": {
        "id": "GATkVFmqOCmj"
      },
      "source": [
        "ftags = ['1girl']\n",
        "mtags = ['1boy']\n",
        "chosenf = []\n",
        "chosenm = []\n",
        "for index in df_X.index:\n",
        "    tag = df_X['tags'][index]\n",
        "    tokens = re.split(\"[ ]\", tag)\n",
        "    if '1girl' in tokens:\n",
        "      if 'white_background' in tokens:\n",
        "        if 'full_body' in tokens:\n",
        "          chosenf.append(df_X['sample_url'][index])\n",
        "    if '1boy' in tokens:\n",
        "      if 'white_background' in tokens:\n",
        "        if 'full_body' in tokens:\n",
        "          chosenm.append(df_X['sample_url'][index])\n",
        "\n",
        "print(len(chosenf), \" \", len(chosenm))"
      ],
      "execution_count": null,
      "outputs": []
    },
    {
      "cell_type": "code",
      "metadata": {
        "id": "wa2M_SRyGSrI"
      },
      "source": [
        "plt.figure(figsize=(7,7))\n",
        "labels = [\"Female characters: \" +str(len(chosenf)), \"Male characters: \"+str(len(chosenm))]\n",
        "colors = [\"#A28BE1\", \"#F3D277\"]\n",
        "sizes = [len(chosenf), len(chosenm)]\n",
        "plt.pie(sizes, labels=labels, colors=colors, wedgeprops=dict(width=0.3),textprops={'fontsize': 14})\n",
        "plt.show()"
      ],
      "execution_count": null,
      "outputs": []
    },
    {
      "cell_type": "markdown",
      "metadata": {
        "id": "8YWaN-eyF2r4"
      },
      "source": [
        "#### Extract images from selected samples and export as archive files"
      ]
    },
    {
      "cell_type": "code",
      "metadata": {
        "id": "Nbv5YJ3kLfeT"
      },
      "source": [
        "! mkdir /content/fimages\n",
        "! mkdir /content/mimages"
      ],
      "execution_count": null,
      "outputs": []
    },
    {
      "cell_type": "code",
      "metadata": {
        "id": "VCDGiiaxDckG"
      },
      "source": [
        "for i in range(1758):\n",
        "  try:\n",
        "    urllib.request.urlretrieve(\"http:\" +chosenf[i], \"/content/fimages/img{}.jpg\".format(i) )\n",
        "    urllib.request.urlretrieve(\"http:\" +chosenm[i], \"/content/mimages/img{}.jpg\".format(i) )\n",
        "  except HTTPError as err:\n",
        "   if err.code == 404:\n",
        "       pass\n",
        "  i +=1\n"
      ],
      "execution_count": null,
      "outputs": []
    },
    {
      "cell_type": "code",
      "metadata": {
        "id": "-bqalmRqJrRw"
      },
      "source": [
        "!zip -r /content/fimg.zip /content/fimages\n",
        "!zip -r /content/mimg.zip /content/mimages"
      ],
      "execution_count": null,
      "outputs": []
    },
    {
      "cell_type": "code",
      "metadata": {
        "id": "25o2CVNXvIq6"
      },
      "source": [
        "from google.colab import files"
      ],
      "execution_count": null,
      "outputs": []
    },
    {
      "cell_type": "code",
      "metadata": {
        "id": "XMumaqmPGKQL"
      },
      "source": [
        "files.download(\"/content/fimg.zip\")"
      ],
      "execution_count": null,
      "outputs": []
    },
    {
      "cell_type": "code",
      "metadata": {
        "id": "9rGhUT9DvLBB"
      },
      "source": [
        "files.download(\"/content/mimg.zip\")"
      ],
      "execution_count": null,
      "outputs": []
    }
  ]
}